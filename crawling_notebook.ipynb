{
 "cells": [
  {
   "cell_type": "code",
   "execution_count": 84,
   "id": "043ca6bb-d69a-46bd-b191-bcda74d519f3",
   "metadata": {},
   "outputs": [],
   "source": [
    "import requests\n",
    "from bs4 import BeautifulSoup\n",
    "import re\n",
    "import pandas as pd\n",
    "import numpy as np\n",
    "import time"
   ]
  },
  {
   "cell_type": "code",
   "execution_count": 85,
   "id": "26fd21ea-009d-46d9-a198-95a4781359e9",
   "metadata": {},
   "outputs": [],
   "source": [
    "def parse_oneline(txt):\n",
    "    output = [i for i in txt.split('\\n')]\n",
    "    return output\n",
    "\n",
    "def parse_onepage(page_num):\n",
    "    time.sleep(1) \n",
    "    html=requests.get(f\"https://www.khug.or.kr/jeonse/web/s07/s070102.jsp?cur_page={page_num}\")\n",
    "    bs_test = BeautifulSoup(html.text, 'html.parser')\n",
    "    tables = bs_test.find('table')\n",
    "    thead = tables.find('thead')\n",
    "    tab_cols = parse_oneline(thead.get_text().strip())\n",
    "    tbody = tables.find('tbody')\n",
    "    output_tab = pd.DataFrame([parse_oneline(i.strip()) for i in tbody.get_text().strip().split('\\n\\n')], columns=tab_cols)\n",
    "    output_tab = output_tab.assign(href_id = np.unique([re.search('no=\\d{10}', i['href']).group() for i in tbody.find_all(href=True)]))\n",
    "    return output_tab"
   ]
  },
  {
   "cell_type": "code",
   "execution_count": 86,
   "id": "2f26ac1f-9970-4bfa-b1ce-41d4422f5456",
   "metadata": {},
   "outputs": [],
   "source": [
    "datas = [parse_onepage(n) for n in range(1,7)]"
   ]
  },
  {
   "cell_type": "code",
   "execution_count": 57,
   "id": "f2ebd238-397f-421e-9742-76fd6a46f6a1",
   "metadata": {},
   "outputs": [],
   "source": [
    "final_data = pd.concat(datas).reset_index(drop=True).assign(address = lambda df: df['주소'].apply(lambda x: x.split('  ')[0] if ',' not in x else  x.split('  ')[0].split(',')[0])\n",
    "                                               # .apply(lambda x: ' '.join([i for i in x.split(' ') if i !='']))\n",
    "                                              )"
   ]
  },
  {
   "cell_type": "code",
   "execution_count": 58,
   "id": "46b984f0-254a-446a-a945-356d8e228879",
   "metadata": {},
   "outputs": [],
   "source": [
    "def find_coordinates(address):\n",
    "    time.sleep(1)\n",
    "    apiurl = \"https://api.vworld.kr/req/address?\"\n",
    "    params = {\n",
    "    \t\"service\": \"address\",\n",
    "    \t\"request\": \"getcoord\",\n",
    "    \t\"crs\": \"epsg:5179\",\n",
    "    \t\"address\": address,\n",
    "    \t\"format\": \"json\",\n",
    "    \t\"type\": \"parcel\",\n",
    "    \t\"key\": \"(api 키)\"\n",
    "    }\n",
    "    response = requests.get(apiurl, params=params)\n",
    "    if response.status_code == 200:\n",
    "        result = response.json()['response']\n",
    "        # print(result)\n",
    "        if 'result' in result.keys():\n",
    "            return result['result']['point']['x'], result['result']['point']['y']\n",
    "        else:\n",
    "            return 0,0"
   ]
  },
  {
   "cell_type": "code",
   "execution_count": 59,
   "id": "2523e74a-b79c-481f-8246-15201f889a16",
   "metadata": {},
   "outputs": [
    {
     "data": {
      "text/plain": [
       "('947244.988988097', '1942135.319105934')"
      ]
     },
     "execution_count": 59,
     "metadata": {},
     "output_type": "execute_result"
    }
   ],
   "source": [
    "find_coordinates(final_data.address.values[0])"
   ]
  },
  {
   "cell_type": "code",
   "execution_count": 60,
   "id": "1692036e-d224-461b-bcda-9e2e4f724f0d",
   "metadata": {
    "scrolled": true
   },
   "outputs": [],
   "source": [
    "coordinates = [find_coordinates(i) for i in final_data.address.values]"
   ]
  },
  {
   "cell_type": "code",
   "execution_count": 61,
   "id": "aeae6f40-4949-4eea-bc93-7fce4ee48b20",
   "metadata": {},
   "outputs": [],
   "source": [
    "final_data0 = pd.concat([final_data, pd.DataFrame(coordinates, columns = ['x','y'])], axis=1)"
   ]
  },
  {
   "cell_type": "code",
   "execution_count": 80,
   "id": "85d2aa91-2262-4e99-aad3-5a62af42da35",
   "metadata": {},
   "outputs": [],
   "source": [
    "def get_img_link(href_id):\n",
    "    time.sleep(1) \n",
    "    page_url = f\"https://www.khug.or.kr/jeonse/web/s07/s070103.jsp?dt=20240830&{href_id}\"\n",
    "    html=requests.get(page_url)\n",
    "    bs_test = BeautifulSoup(html.content, 'html.parser')\n",
    "    img_src = bs_test.find(id = 'imgSor0')\n",
    "    img_link = img_src.get('src')\n",
    "    return img_link"
   ]
  },
  {
   "cell_type": "code",
   "execution_count": 82,
   "id": "0ca933db-d4c3-4ee0-953a-962fe3b19248",
   "metadata": {},
   "outputs": [],
   "source": [
    "final_data = final_data0.assign(img = lambda df: df.href_id.apply(lambda x: get_img_link(x)))"
   ]
  },
  {
   "cell_type": "code",
   "execution_count": 87,
   "id": "5e1cd0f7-0f96-49d7-9460-a38ad73b78f7",
   "metadata": {},
   "outputs": [],
   "source": [
    "final_data.to_csv('data/test_data.csv', index = False, encoding = 'utf-8-sig')"
   ]
  }
 ],
 "metadata": {
  "kernelspec": {
   "display_name": "Python 3 (ipykernel)",
   "language": "python",
   "name": "python3"
  },
  "language_info": {
   "codemirror_mode": {
    "name": "ipython",
    "version": 3
   },
   "file_extension": ".py",
   "mimetype": "text/x-python",
   "name": "python",
   "nbconvert_exporter": "python",
   "pygments_lexer": "ipython3",
   "version": "3.10.12"
  }
 },
 "nbformat": 4,
 "nbformat_minor": 5
}
