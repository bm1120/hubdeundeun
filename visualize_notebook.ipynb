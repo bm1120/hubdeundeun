{
 "cells": [
  {
   "cell_type": "code",
   "execution_count": 63,
   "id": "84793b0f-c165-4e39-84bf-9cbc615c9488",
   "metadata": {},
   "outputs": [],
   "source": [
    "import geopandas as gpd\n",
    "import pandas as pd\n",
    "import folium\n",
    "import pyproj\n",
    "import shapely\n",
    "import matplotlib.pyplot as plt"
   ]
  },
  {
   "cell_type": "code",
   "execution_count": 67,
   "id": "3d2fa45a-c3a6-44b9-b612-31ad6d9d1adb",
   "metadata": {},
   "outputs": [],
   "source": [
    "# 프로젝션 정의\n",
    "xy4326 = pyproj.CRS('epsg:4326')  \n",
    "xy5179 = pyproj.CRS('epsg:5179')  \n",
    "xy5186 = pyproj.CRS('epsg:5186')\n",
    "\n",
    "# Transformer 생성\n",
    "transformer = pyproj.Transformer.from_crs(xy5186, xy4326)\n",
    "# transformer_86 = pyproj.Transformer.from_crs(xy5186, xy5186)\n"
   ]
  },
  {
   "cell_type": "code",
   "execution_count": 65,
   "id": "43ac6ff2-2847-43b2-97a9-695bfb5bb2fd",
   "metadata": {},
   "outputs": [],
   "source": [
    "processing_data = pd.read_csv('data/test_data.csv')"
   ]
  },
  {
   "cell_type": "code",
   "execution_count": null,
   "id": "316795f8-42ac-442e-9684-cb1e7b782e0d",
   "metadata": {},
   "outputs": [],
   "source": [
    "transformer.transform(processing_data.loc[0,['x','y']].values[0], processing_data.loc[0,['x','y']].values[1])"
   ]
  },
  {
   "cell_type": "code",
   "execution_count": 118,
   "id": "e67491f4-6c59-4754-b5de-58f6099586be",
   "metadata": {
    "scrolled": true
   },
   "outputs": [],
   "source": [
    "processing_final = processing_data.assign(\n",
    "    latitude = lambda df: df.apply(lambda row: transformer.transform(row.x, row.y)[0], axis=1),\n",
    "    logitude = lambda df: df.apply(lambda row: transformer.transform(row.x, row.y)[1], axis=1),\n",
    ")\n",
    "processing_geo = gpd.GeoDataFrame(processing_final.assign(geometry = lambda df:df.apply(lambda row:shapely.geometry.Point((row.x, row.y)), axis=1)))\n",
    "sgg_select = processing_geo.filter(regex='시도|시군구').drop_duplicates()\\\n",
    ".apply(lambda row: f\"{row['시도']} {row['시군구'].split()[-1]}\" if \"부천\" not in row['시군구'] \n",
    "       else f\"{row['시도']} {' '.join(row['시군구'].split()[1:])}\" , axis=1).tolist()"
   ]
  },
  {
   "cell_type": "code",
   "execution_count": 119,
   "id": "59cd3985-14e0-4a15-b0cb-16a8cb66d3fc",
   "metadata": {},
   "outputs": [],
   "source": [
    "seoul_geo = gpd.read_file('data/seoul_geo/LARD_ADM_SECT_SGG_11_202405.shx', encoding = 'cp949').query(\"SGG_NM in @sgg_select\")\n",
    "gyeonggi_geo = gpd.read_file('data/gyeonggi_geo/LARD_ADM_SECT_SGG_41_202405.shx', encoding = 'cp949').query(\"SGG_NM in @sgg_select\")\n",
    "incheon_geo = gpd.read_file('data/incheon_geo/LARD_ADM_SECT_SGG_28_202405.shx', encoding = 'cp949').query(\"SGG_NM in @sgg_select\")"
   ]
  },
  {
   "cell_type": "code",
   "execution_count": null,
   "id": "68171756-18a9-4187-a8ff-0ce418eb7037",
   "metadata": {},
   "outputs": [],
   "source": [
    "sgg_select"
   ]
  },
  {
   "cell_type": "code",
   "execution_count": null,
   "id": "05a15d5a-0a28-4f96-a896-6339f47b99c1",
   "metadata": {},
   "outputs": [],
   "source": [
    "fig, ax = plt.subplots()\n",
    "seoul_geo.plot(ax=ax)\n",
    "gyeonggi_geo.plot(ax = ax)\n",
    "incheon_geo.plot(ax = ax)\n",
    "processing_geo.plot(ax=ax, color = 'r')"
   ]
  }
 ],
 "metadata": {
  "kernelspec": {
   "display_name": "Python 3 (ipykernel)",
   "language": "python",
   "name": "python3"
  },
  "language_info": {
   "codemirror_mode": {
    "name": "ipython",
    "version": 3
   },
   "file_extension": ".py",
   "mimetype": "text/x-python",
   "name": "python",
   "nbconvert_exporter": "python",
   "pygments_lexer": "ipython3",
   "version": "3.10.12"
  }
 },
 "nbformat": 4,
 "nbformat_minor": 5
}
