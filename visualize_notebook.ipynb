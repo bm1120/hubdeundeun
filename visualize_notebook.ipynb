{
 "cells": [
  {
   "cell_type": "code",
   "execution_count": null,
   "id": "84793b0f-c165-4e39-84bf-9cbc615c9488",
   "metadata": {},
   "outputs": [],
   "source": [
    "import geopandas as gpd\n",
    "import pandas as pd\n",
    "import folium\n",
    "import pyproj\n",
    "from shapely.geometry import Point\n",
    "import shapely\n",
    "import matplotlib.pyplot as plt\n",
    "import re\n",
    "from tqdm.notebook import tqdm\n",
    "import numpy as np\n",
    "import seaborn as sns"
   ]
  },
  {
   "cell_type": "code",
   "execution_count": null,
   "id": "84e5c0f2-f58b-4195-8bb2-bebd0409700d",
   "metadata": {},
   "outputs": [],
   "source": [
    "import matplotlib.font_manager as fm\n",
    "import matplotlib as mpl\n",
    "\n",
    "fm.fontManager.addfont('config/NanumSquareR.ttf')\n",
    "prop = fm.FontProperties(fname='config/NanumSquareR.ttf')\n",
    "\n",
    "plt.rcParams['font.family'] = 'sans-serif'\n",
    "plt.rcParams['font.sans-serif'] = prop.get_name()\n",
    "plt.rcParams['axes.unicode_minus'] = False\n",
    "\n",
    "box_kwargs = dict(boxprops=dict(alpha=0.5), fliersize = 0)\n",
    "strip_kwargs = dict(size=10)\n",
    "bar_kwargs = dict(capsize = 0.1)\n",
    "cormap_kwargs = dict(annot = True, cmap='coolwarm', vmin=-1, vmax=1)"
   ]
  },
  {
   "cell_type": "code",
   "execution_count": null,
   "id": "3d2fa45a-c3a6-44b9-b612-31ad6d9d1adb",
   "metadata": {},
   "outputs": [],
   "source": [
    "# 프로젝션 정의\n",
    "xy4326 = pyproj.CRS('epsg:4326')  \n",
    "xy5179 = pyproj.CRS('epsg:5179')  \n",
    "xy5186 = pyproj.CRS('epsg:5186')\n",
    "\n",
    "# Transformer 생성\n",
    "transformer = pyproj.Transformer.from_crs(xy5186, xy4326)\n",
    "# transformer_86 = pyproj.Transformer.from_crs(xy5186, xy5186)\n",
    "transformer_inv = pyproj.Transformer.from_crs(xy4326, xy5186)"
   ]
  },
  {
   "cell_type": "code",
   "execution_count": null,
   "id": "43ac6ff2-2847-43b2-97a9-695bfb5bb2fd",
   "metadata": {},
   "outputs": [],
   "source": [
    "processing_data = pd.read_csv('data/test_data.csv')"
   ]
  },
  {
   "cell_type": "code",
   "execution_count": null,
   "id": "316795f8-42ac-442e-9684-cb1e7b782e0d",
   "metadata": {},
   "outputs": [],
   "source": [
    "transformer.transform(processing_data.loc[0,['x','y']].values[0], processing_data.loc[0,['x','y']].values[1])"
   ]
  },
  {
   "cell_type": "code",
   "execution_count": null,
   "id": "e67491f4-6c59-4754-b5de-58f6099586be",
   "metadata": {
    "scrolled": true
   },
   "outputs": [],
   "source": [
    "processing_final = processing_data.assign(\n",
    "    latitude = lambda df: df.apply(lambda row: transformer.transform(row.x, row.y)[0], axis=1),\n",
    "    logitude = lambda df: df.apply(lambda row: transformer.transform(row.x, row.y)[1], axis=1),\n",
    ")\n",
    "processing_geo = gpd.GeoDataFrame(processing_final.assign(geometry = lambda df:df.apply(lambda row:shapely.geometry.Point((row.x, row.y)), axis=1)))\n",
    "sgg_select = processing_geo.filter(regex='시도|시군구').drop_duplicates()\\\n",
    ".apply(lambda row: f\"{row['시도']} {row['시군구'].split()[-1]}\" if \"부천\" not in row['시군구'] \n",
    "       else f\"{row['시도']} {' '.join(row['시군구'].split()[1:])}\" , axis=1).tolist()"
   ]
  },
  {
   "cell_type": "code",
   "execution_count": null,
   "id": "59cd3985-14e0-4a15-b0cb-16a8cb66d3fc",
   "metadata": {},
   "outputs": [],
   "source": [
    "seoul_geo = gpd.read_file('data/seoul_geo/LARD_ADM_SECT_SGG_11_202405.shx', encoding = 'cp949').query(\"SGG_NM in @sgg_select\")\n",
    "gyeonggi_geo = gpd.read_file('data/gyeonggi_geo/LARD_ADM_SECT_SGG_41_202405.shx', encoding = 'cp949').query(\"SGG_NM in @sgg_select\")\n",
    "incheon_geo = gpd.read_file('data/incheon_geo/LARD_ADM_SECT_SGG_28_202405.shx', encoding = 'cp949').query(\"SGG_NM in @sgg_select\")"
   ]
  },
  {
   "cell_type": "code",
   "execution_count": null,
   "id": "7feab41a-5139-4de8-a2be-5853ccc9ba8c",
   "metadata": {},
   "outputs": [],
   "source": [
    "total_geo = shapely.union_all([shapely.union_all(seoul_geo.geometry.values), shapely.union_all(incheon_geo.geometry.values), shapely.union_all(gyeonggi_geo.geometry.values)])"
   ]
  },
  {
   "cell_type": "code",
   "execution_count": null,
   "id": "68171756-18a9-4187-a8ff-0ce418eb7037",
   "metadata": {},
   "outputs": [],
   "source": [
    "sgg_select"
   ]
  },
  {
   "cell_type": "code",
   "execution_count": null,
   "id": "0332b0b4-1954-4d61-86b4-4bf6e731825c",
   "metadata": {},
   "outputs": [],
   "source": [
    "def find_coordinates(address, search_type ='road'):\n",
    "    import time\n",
    "    import requests\n",
    "    # time.sleep(1)\n",
    "    apiurl = \"https://api.vworld.kr/req/address?\"\n",
    "    params = {\n",
    "    \t\"service\": \"address\",\n",
    "    \t\"request\": \"getcoord\",\n",
    "    \t\"crs\": \"epsg:5186\",\n",
    "    \t\"address\": address,\n",
    "    \t\"format\": \"json\",\n",
    "    \t\"type\": search_type,\n",
    "    \t\"key\": \"9D2B20D9-1DAC-36BA-9D42-01A1AD1F49A4\"\n",
    "    }\n",
    "    response = requests.get(apiurl, params=params)\n",
    "    if response.status_code == 200:\n",
    "        result = response.json()['response']\n",
    "        # print(result)\n",
    "        if 'result' in result.keys():\n",
    "            return result['result']['point']['x'], result['result']['point']['y']\n",
    "        else:\n",
    "            print(address)\n",
    "            return 0,0\n",
    "    else:\n",
    "        print(response.status_code)\n",
    "        print(address)\n",
    "        return 0,0"
   ]
  },
  {
   "cell_type": "code",
   "execution_count": null,
   "id": "9ee753a6-781a-4c20-95ae-681438b83689",
   "metadata": {},
   "outputs": [],
   "source": [
    "find_coordinates('서울특별시 동대문구 왕산로 지하205(전농동)')"
   ]
  },
  {
   "cell_type": "code",
   "execution_count": null,
   "id": "838313dc-6b8c-4a98-817c-99bfc355991a",
   "metadata": {},
   "outputs": [],
   "source": [
    "'|'.join(['서울.*'+i.split()[-1] for i in sgg_select if '서울' in i]+['인천.*'+i.split()[-1] for i in sgg_select if '인천' in i]+['부천'])"
   ]
  },
  {
   "cell_type": "code",
   "execution_count": null,
   "id": "bbe4078a-fac0-49d2-bd7e-72bfbc56580b",
   "metadata": {
    "scrolled": true
   },
   "outputs": [],
   "source": [
    "search_regex = '|'.join(['서울.*'+i.split()[-1] for i in sgg_select if '서울' in i]+['인천.*'+i.split()[-1] for i in sgg_select if '인천' in i]+['부천'])\n",
    "station_data = pd.read_excel('data/전체_도시철도역사정보_20240630.xlsx').filter(regex='^역사명$|^노선명$|역사도로명주소')\\\n",
    ".assign(\n",
    "    address = lambda df: df['역사도로명주소'].apply(lambda x: re.sub('\\(.*\\)', '',x)),\n",
    "    YN= lambda df: df['역사도로명주소'].apply(lambda x: True if re.search(search_regex, x) else False),\n",
    "    YN2= lambda df: df['노선명'].apply(lambda x: False if re.search('|'.join(['대구', '부산', '광주', '대전']), x) else True)\n",
    "    ).query('YN & YN2').sort_values('노선명').groupby('역사명').first().reset_index()"
   ]
  },
  {
   "cell_type": "code",
   "execution_count": null,
   "id": "66b84638-9e33-4f23-a432-579b5df42509",
   "metadata": {},
   "outputs": [],
   "source": [
    "coords = [find_coordinates(address) for address in tqdm(station_data['address'].values)]"
   ]
  },
  {
   "cell_type": "code",
   "execution_count": null,
   "id": "4d442e32-83a7-4577-a0dc-34c9ab95dedd",
   "metadata": {},
   "outputs": [],
   "source": [
    "error_case = \"\"\"인천광역시 남동구 고잔동 970-14\n",
    "인천광역시 계양구 게양대로 73\n",
    "인천광역시 서구 에코로 163\"\"\".split('\\n')\n",
    "# +\"\"\"\n",
    "# \"\"\".split('\\n') # 추가 에러(502) 발생역"
   ]
  },
  {
   "cell_type": "code",
   "execution_count": null,
   "id": "834259bb-0203-4f28-bee7-fa323c4aa26e",
   "metadata": {},
   "outputs": [],
   "source": [
    "station_data.query('역사도로명주소 in @error_case')"
   ]
  },
  {
   "cell_type": "code",
   "execution_count": null,
   "id": "a303bb06-3714-4e0e-854b-36b0eb3c9efa",
   "metadata": {},
   "outputs": [],
   "source": [
    "\n",
    "add_coordis = pd.DataFrame(dict(역사명=['남동인더스파크역', '작전', '청라국제도시'], \n",
    "                                coordi=[find_coordinates(i, 'parcel') for i in \n",
    "                                        ['인천광역시 남동구 고잔동 970-14', '인천 계양구 작전동 878', '인천 서구 청라동 7-5']]))\\\n",
    ".assign(\n",
    "    x=lambda df: df.coordi.apply(lambda k: k[0]),\n",
    "    y=lambda df: df.coordi.apply(lambda k: k[1])\n",
    ").drop(columns='coordi').set_index('역사명')"
   ]
  },
  {
   "cell_type": "code",
   "execution_count": null,
   "id": "7d9565a6-e3f7-4505-ac4f-fc78b0ed525e",
   "metadata": {},
   "outputs": [],
   "source": [
    "add_coordis"
   ]
  },
  {
   "cell_type": "code",
   "execution_count": null,
   "id": "aeecad87-06dd-4579-9da0-b2bf156b334a",
   "metadata": {},
   "outputs": [],
   "source": [
    "df_coordi = pd.DataFrame(dict(역사명 = station_data['역사명'], \n",
    "                              x = [i[0] if i[0]!=0 else np.nan for i in coords], \n",
    "                              y = [i[1] if i[0]!=0 else np.nan for i in coords])).set_index('역사명')\n"
   ]
  },
  {
   "cell_type": "code",
   "execution_count": null,
   "id": "f036da96-efb0-453b-aff2-125ab587180f",
   "metadata": {},
   "outputs": [],
   "source": [
    "station_final= station_data.merge(df_coordi.combine_first(add_coordis).reset_index(), on='역사명')"
   ]
  },
  {
   "cell_type": "code",
   "execution_count": null,
   "id": "63ecd69d-7067-4691-8543-fdb4dcd727d8",
   "metadata": {},
   "outputs": [],
   "source": [
    "station_final.head()"
   ]
  },
  {
   "cell_type": "code",
   "execution_count": null,
   "id": "7ed2b5f3-5334-49d6-b108-0314b7c96038",
   "metadata": {},
   "outputs": [],
   "source": [
    "station_geo = gpd.GeoDataFrame(station_final.assign(\n",
    "    geometry = lambda df:df.apply(lambda row: Point((row.x, row.y)), axis=1),\n",
    "    within = lambda df: df.geometry.apply(lambda x: shapely.within(x, total_geo))\n",
    "    ).query('within'))"
   ]
  },
  {
   "cell_type": "code",
   "execution_count": null,
   "id": "ccc67e64-3998-41e2-bfb9-ddcae8915c70",
   "metadata": {},
   "outputs": [],
   "source": [
    "line_list = sorted(station_geo['노선명'].unique())\n",
    "colors = sns.color_palette('tab20')[:len(line_list)]"
   ]
  },
  {
   "cell_type": "code",
   "execution_count": null,
   "id": "05a15d5a-0a28-4f96-a896-6339f47b99c1",
   "metadata": {},
   "outputs": [],
   "source": [
    "fig, ax = plt.subplots()\n",
    "seoul_geo.plot(ax=ax, color='lightgray')\n",
    "gyeonggi_geo.plot(ax = ax, color='lightgray')\n",
    "incheon_geo.plot(ax = ax, color='lightgray')\n",
    "processing_geo.plot(ax=ax, color='r')\n",
    "for t, c in zip(line_list, colors):\n",
    "    station_geo.query('노선명==@t').plot(ax=ax, color=c, alpha = 0.4)"
   ]
  },
  {
   "cell_type": "code",
   "execution_count": null,
   "id": "a888744a-9fb2-47c5-b735-ec945c2f6e7e",
   "metadata": {},
   "outputs": [],
   "source": [
    "cross_tab= processing_geo.filter(regex='번호|geometry').merge(station_geo.filter(regex='역사명|geometry'),how='cross')\\\n",
    ".assign(distance = lambda df:df.apply(lambda row: shapely.distance(row.geometry_x, row.geometry_y), axis=1)).reset_index(drop=True)"
   ]
  },
  {
   "cell_type": "code",
   "execution_count": null,
   "id": "8bf4b22e-5dea-48b9-bfd0-15ad6c55e9e9",
   "metadata": {},
   "outputs": [],
   "source": [
    "cross_tab.loc[cross_tab.groupby('번호').distance.idxmin(),['번호', '역사명', 'distance']]"
   ]
  },
  {
   "cell_type": "code",
   "execution_count": null,
   "id": "1f521210-5547-41c5-b910-ddb8c8991b82",
   "metadata": {
    "scrolled": true
   },
   "outputs": [],
   "source": [
    "processing_geo.merge(cross_tab.loc[cross_tab.groupby('번호').distance.idxmin(),['번호', '역사명', 'distance']], on='번호').head()"
   ]
  },
  {
   "cell_type": "markdown",
   "id": "d90489ef-5f88-4ad4-bc73-da99f7da4e99",
   "metadata": {},
   "source": [
    "# 이상 케이스 체크"
   ]
  },
  {
   "cell_type": "code",
   "execution_count": null,
   "id": "3f0a8a34-5e01-472b-997b-31be77089d37",
   "metadata": {},
   "outputs": [],
   "source": [
    "# 이상케이스 체크\n",
    "cross_tab.query('번호==51').query('distance<3000').drop(columns = 'geometry_x').rename(columns = {'geometry_x':'geometry'})"
   ]
  },
  {
   "cell_type": "code",
   "execution_count": null,
   "id": "9fc24d5f-a627-47cb-a036-32e933d7cf19",
   "metadata": {},
   "outputs": [],
   "source": [
    "fig, ax = plt.subplots()\n",
    "seoul_geo.query('ADM_SECT_C==\"11500\"').plot(ax=ax, color='lightgray')\n",
    "processing_geo.query('번호==51').plot(ax=ax, color='r')\n",
    "# gpd.GeoSeries({'geometry': Point(find_coordinates('화곡동 1089-54', 'parcel'))}).plot(ax=ax)\n",
    "# train_geo.query('역사명==\"화곡\"').plot(ax=ax, color='g')\n",
    "cross_tab.query('번호==51 & distance<3000').drop(columns = 'geometry_x').rename(columns = {'geometry_y':'geometry'}).plot(ax = ax, color='r')\n",
    "cross_tab.query('번호==51& distance<3000').drop(columns = 'geometry_x').rename(columns = {'geometry_y':'geometry'}).apply(lambda row: ax.annotate(text=row['역사명'], xy=row.geometry.centroid.coords[0], ha='center'), axis=1)\n",
    "plt.show()"
   ]
  }
 ],
 "metadata": {
  "kernelspec": {
   "display_name": "Python 3 (ipykernel)",
   "language": "python",
   "name": "python3"
  },
  "language_info": {
   "codemirror_mode": {
    "name": "ipython",
    "version": 3
   },
   "file_extension": ".py",
   "mimetype": "text/x-python",
   "name": "python",
   "nbconvert_exporter": "python",
   "pygments_lexer": "ipython3",
   "version": "3.10.12"
  }
 },
 "nbformat": 4,
 "nbformat_minor": 5
}
